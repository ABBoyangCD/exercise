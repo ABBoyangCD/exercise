{
 "cells": [
  {
   "cell_type": "markdown",
   "metadata": {},
   "source": [
    "# scikit-learn实现cart分类树"
   ]
  },
  {
   "cell_type": "markdown",
   "metadata": {},
   "source": [
    "目前scikit-learn能实现的树: cart分类树,cart回归树,且自变量x不能是多分类的数据"
   ]
  },
  {
   "cell_type": "code",
   "execution_count": 64,
   "metadata": {},
   "outputs": [],
   "source": [
    "from sklearn.datasets import load_iris\n",
    "from sklearn import tree\n",
    "import graphviz\n",
    "import os\n",
    "import numpy as np"
   ]
  },
  {
   "cell_type": "markdown",
   "metadata": {},
   "source": [
    "- 需要安装graphviz包,通过此包中的函数绘制树图\n",
    "- 安装使用conda install python-graphviz\n",
    "- 也可从官网安装:graphviz[官网](http://www.graphviz.org):可以[下载](https://graphviz.gitlab.io/_pages/Download/Download_windows.html)安装包\n",
    "- 如果输出有问题参考[此贴](https://stackoverflow.com/questions/35064304/runtimeerror-make-sure-the-graphviz-executables-are-on-your-systems-path-aft)"
   ]
  },
  {
   "cell_type": "code",
   "execution_count": 2,
   "metadata": {},
   "outputs": [],
   "source": [
    "os.chdir(\"D:/data/python\")\n",
    "# 设置工作路径\n",
    "from sklearn.model_selection import train_test_split\n",
    "iris = load_iris()\n",
    "X = iris.data\n",
    "y = iris.target\n",
    "# 加载数据,自变量给X,因变量给y\n",
    "X_train,X_test,y_train,y_test = train_test_split(X,y,test_size=0.2,random_state=12)\n",
    "# 分训练集和测试集"
   ]
  },
  {
   "cell_type": "code",
   "execution_count": 10,
   "metadata": {
    "scrolled": true
   },
   "outputs": [
    {
     "data": {
      "text/plain": [
       "DecisionTreeClassifier(class_weight=None, criterion='gini', max_depth=None,\n",
       "            max_features=None, max_leaf_nodes=None,\n",
       "            min_impurity_decrease=0.0, min_impurity_split=None,\n",
       "            min_samples_leaf=1, min_samples_split=2,\n",
       "            min_weight_fraction_leaf=0.0, presort=False, random_state=None,\n",
       "            splitter='best')"
      ]
     },
     "execution_count": 10,
     "metadata": {},
     "output_type": "execute_result"
    }
   ],
   "source": [
    "clf = tree.DecisionTreeClassifier()\n",
    "# 使用scikit-learn的决策树分类模型\n",
    "clf.fit(X_train,y_train)"
   ]
  },
  {
   "cell_type": "markdown",
   "metadata": {},
   "source": [
    "- DecisionTreeClassifier参数:\n",
    "    - criterion: 属性选择算法,默认:\"gini\"表示基尼不纯度,可用\"entropy\"表示信息熵,两种算法类似,信息熵运算效率略低\n",
    "    - splitter:结点选择属性的策略,默认\"best\":选择最优分割属性;\"random\"从排名靠前的属性中随机选择\n",
    "    - max_depth:树的最大深度,即层数,默认为None,也可以给整数\n",
    "    - min_samples_split:内部结点包含的观测数最小值(即能创建分支的节点包含的最小观测数),默认为2,可以是整数表示最少包含几行数据,也可以是浮点数表示占比\n",
    "    - min_samples_leaf:叶节点包含的最小观测数(即分支后的子节点包含的最小观测数),默认为1,可以是整数和浮点数,表示含义同上\n",
    "    - max_leaf_node:节点个数的最大值\n",
    "    - min_impurity_decrease:不纯度(信息熵)下降的阈值,只有当下降值大于阈值的时候才分支,用于前剪枝策略.版本0.19的新参数,对应的旧参数名为:min_impurity_split\n",
    "    - presort:是否对数据排序以提高寻找最优分割点的效率,默认为False,大数据集设置为True会降低训练速度,小数据集设置为True会提速\n",
    "    - 更多其他参数查看[帮助文件](https://scikit-learn.org/stable/modules/generated/sklearn.tree.DecisionTreeClassifier.html#sklearn.tree.DecisionTreeClassifier)(主要是样本加权相关参数)\n",
    "- 函数返回结果包含的属性:\n",
    "    - classes_:y的类别标签\n",
    "    - n_classes_:类别标签的个数\n",
    "    - feature_importances:属性重要性的列表\n",
    "    - n_features_:属性个数\n",
    "    - n_outputs_:输出个数\n",
    "    - tree_:存储整个树结构,可以抽出如下属性,详情[参考](https://scikit-learn.org/stable/auto_examples/tree/plot_unveil_tree_structure.html#sphx-glr-auto-examples-tree-plot-unveil-tree-structure-py),其中-2(或-1)表示叶节点\n",
    "        - node_count:树的结点个数\n",
    "        - children_left:所在位置节点对应左节点的id值,所有节点从0开始计数,每个节点对应一个id,计数规则从左分支到右分支,-1表示叶节点\n",
    "        - children_right:所在位置节点对应右节点的id值,-1表示叶节点\n",
    "        - feature:每个结点对应的属性索引值,-2表示叶节点\n",
    "        - threshold:每个结点对应的分割值(-2表示叶节点)"
   ]
  },
  {
   "cell_type": "code",
   "execution_count": 30,
   "metadata": {
    "scrolled": false
   },
   "outputs": [
    {
     "name": "stdout",
     "output_type": "stream",
     "text": [
      "feature_importance:[0.01250782 0.03001876 0.90481856 0.05265486]\n",
      "Tree Structure:\n",
      "number of node: 17\n",
      "each node's left children id: [ 1 -1  3  4 -1  6 -1 -1  9 10 11 -1 13 -1 -1 -1 -1]\n",
      "node's corresponding feature: [ 2 -2  2  3 -2  1 -2 -2  3  1  3 -2  0 -2 -2 -2 -2]\n",
      "node's corresponding spliting value: \n",
      "[[ 2.44999999]\n",
      " [-2.        ]\n",
      " [ 4.85000014]\n",
      " [ 1.65000004]\n",
      " [-2.        ]\n",
      " [ 3.10000002]\n",
      " [-2.        ]\n",
      " [-2.        ]\n",
      " [ 1.69999999]\n",
      " [ 3.04999995]\n",
      " [ 1.55000001]\n",
      " [-2.        ]\n",
      " [ 6.5999999 ]\n",
      " [-2.        ]\n",
      " [-2.        ]\n",
      " [-2.        ]\n",
      " [-2.        ]]\n"
     ]
    }
   ],
   "source": [
    "print(f\"feature_importance:{clf.feature_importances_}\")\n",
    "# 查看属性重要性\n",
    "print(f\"\"\"Tree Structure:\n",
    "number of node: {clf.tree_.node_count}\n",
    "each node's left children id: {clf.tree_.children_left}\n",
    "node's corresponding feature: {clf.tree_.feature}\n",
    "node's corresponding spliting value: \n",
    "{clf.tree_.threshold.reshape(-1,1)}\"\"\")\n",
    "# 从上到下依次查看:节点个数,每个节点左节点对应id\n",
    "# 每个节点对应属性索引,每个节点的分割值"
   ]
  },
  {
   "cell_type": "code",
   "execution_count": 5,
   "metadata": {
    "scrolled": true
   },
   "outputs": [
    {
     "name": "stdout",
     "output_type": "stream",
     "text": [
      "train score: 1.0\n",
      "test score: 0.9333333333333333\n"
     ]
    }
   ],
   "source": [
    "print(f\"train score: {clf.score(X_train,y_train)}\")\n",
    "print(f\"test score: {clf.score(X_test,y_test)}\")\n",
    "# 打印训练集和测试集的分数"
   ]
  },
  {
   "cell_type": "code",
   "execution_count": 40,
   "metadata": {
    "scrolled": false
   },
   "outputs": [
    {
     "data": {
      "image/svg+xml": [
       "<?xml version=\"1.0\" encoding=\"UTF-8\" standalone=\"no\"?>\r\n",
       "<!DOCTYPE svg PUBLIC \"-//W3C//DTD SVG 1.1//EN\"\r\n",
       " \"http://www.w3.org/Graphics/SVG/1.1/DTD/svg11.dtd\">\r\n",
       "<!-- Generated by graphviz version 2.38.0 (20140413.2041)\r\n",
       " -->\r\n",
       "<!-- Title: Tree Pages: 1 -->\r\n",
       "<svg width=\"647pt\" height=\"790pt\"\r\n",
       " viewBox=\"0.00 0.00 647.00 790.00\" xmlns=\"http://www.w3.org/2000/svg\" xmlns:xlink=\"http://www.w3.org/1999/xlink\">\r\n",
       "<g id=\"graph0\" class=\"graph\" transform=\"scale(1 1) rotate(0) translate(4 786)\">\r\n",
       "<title>Tree</title>\r\n",
       "<polygon fill=\"white\" stroke=\"none\" points=\"-4,4 -4,-786 643,-786 643,4 -4,4\"/>\r\n",
       "<!-- 0 -->\r\n",
       "<g id=\"node1\" class=\"node\"><title>0</title>\r\n",
       "<path fill=\"none\" stroke=\"black\" d=\"M312.5,-782C312.5,-782 162.5,-782 162.5,-782 156.5,-782 150.5,-776 150.5,-770 150.5,-770 150.5,-711 150.5,-711 150.5,-705 156.5,-699 162.5,-699 162.5,-699 312.5,-699 312.5,-699 318.5,-699 324.5,-705 324.5,-711 324.5,-711 324.5,-770 324.5,-770 324.5,-776 318.5,-782 312.5,-782\"/>\r\n",
       "<text text-anchor=\"middle\" x=\"237.5\" y=\"-766.8\" font-family=\"Helvetica,sans-Serif\" font-size=\"14.00\">petal length (cm) &lt;= 2.45</text>\r\n",
       "<text text-anchor=\"middle\" x=\"237.5\" y=\"-751.8\" font-family=\"Helvetica,sans-Serif\" font-size=\"14.00\">gini = 0.666</text>\r\n",
       "<text text-anchor=\"middle\" x=\"237.5\" y=\"-736.8\" font-family=\"Helvetica,sans-Serif\" font-size=\"14.00\">samples = 120</text>\r\n",
       "<text text-anchor=\"middle\" x=\"237.5\" y=\"-721.8\" font-family=\"Helvetica,sans-Serif\" font-size=\"14.00\">value = [38, 41, 41]</text>\r\n",
       "<text text-anchor=\"middle\" x=\"237.5\" y=\"-706.8\" font-family=\"Helvetica,sans-Serif\" font-size=\"14.00\">class = versicolor</text>\r\n",
       "</g>\r\n",
       "<!-- 1 -->\r\n",
       "<g id=\"node2\" class=\"node\"><title>1</title>\r\n",
       "<path fill=\"#e58139\" stroke=\"black\" d=\"M203,-655.5C203,-655.5 106,-655.5 106,-655.5 100,-655.5 94,-649.5 94,-643.5 94,-643.5 94,-599.5 94,-599.5 94,-593.5 100,-587.5 106,-587.5 106,-587.5 203,-587.5 203,-587.5 209,-587.5 215,-593.5 215,-599.5 215,-599.5 215,-643.5 215,-643.5 215,-649.5 209,-655.5 203,-655.5\"/>\r\n",
       "<text text-anchor=\"middle\" x=\"154.5\" y=\"-640.3\" font-family=\"Helvetica,sans-Serif\" font-size=\"14.00\">gini = 0.0</text>\r\n",
       "<text text-anchor=\"middle\" x=\"154.5\" y=\"-625.3\" font-family=\"Helvetica,sans-Serif\" font-size=\"14.00\">samples = 38</text>\r\n",
       "<text text-anchor=\"middle\" x=\"154.5\" y=\"-610.3\" font-family=\"Helvetica,sans-Serif\" font-size=\"14.00\">value = [38, 0, 0]</text>\r\n",
       "<text text-anchor=\"middle\" x=\"154.5\" y=\"-595.3\" font-family=\"Helvetica,sans-Serif\" font-size=\"14.00\">class = setosa</text>\r\n",
       "</g>\r\n",
       "<!-- 0&#45;&gt;1 -->\r\n",
       "<g id=\"edge1\" class=\"edge\"><title>0&#45;&gt;1</title>\r\n",
       "<path fill=\"none\" stroke=\"black\" d=\"M208.704,-698.907C200.719,-687.652 192.04,-675.418 184.016,-664.106\"/>\r\n",
       "<polygon fill=\"black\" stroke=\"black\" points=\"186.669,-661.798 178.029,-655.667 180.96,-665.848 186.669,-661.798\"/>\r\n",
       "<text text-anchor=\"middle\" x=\"173.839\" y=\"-676.613\" font-family=\"Helvetica,sans-Serif\" font-size=\"14.00\">True</text>\r\n",
       "</g>\r\n",
       "<!-- 2 -->\r\n",
       "<g id=\"node3\" class=\"node\"><title>2</title>\r\n",
       "<path fill=\"none\" stroke=\"black\" d=\"M395.5,-663C395.5,-663 245.5,-663 245.5,-663 239.5,-663 233.5,-657 233.5,-651 233.5,-651 233.5,-592 233.5,-592 233.5,-586 239.5,-580 245.5,-580 245.5,-580 395.5,-580 395.5,-580 401.5,-580 407.5,-586 407.5,-592 407.5,-592 407.5,-651 407.5,-651 407.5,-657 401.5,-663 395.5,-663\"/>\r\n",
       "<text text-anchor=\"middle\" x=\"320.5\" y=\"-647.8\" font-family=\"Helvetica,sans-Serif\" font-size=\"14.00\">petal length (cm) &lt;= 4.85</text>\r\n",
       "<text text-anchor=\"middle\" x=\"320.5\" y=\"-632.8\" font-family=\"Helvetica,sans-Serif\" font-size=\"14.00\">gini = 0.5</text>\r\n",
       "<text text-anchor=\"middle\" x=\"320.5\" y=\"-617.8\" font-family=\"Helvetica,sans-Serif\" font-size=\"14.00\">samples = 82</text>\r\n",
       "<text text-anchor=\"middle\" x=\"320.5\" y=\"-602.8\" font-family=\"Helvetica,sans-Serif\" font-size=\"14.00\">value = [0, 41, 41]</text>\r\n",
       "<text text-anchor=\"middle\" x=\"320.5\" y=\"-587.8\" font-family=\"Helvetica,sans-Serif\" font-size=\"14.00\">class = versicolor</text>\r\n",
       "</g>\r\n",
       "<!-- 0&#45;&gt;2 -->\r\n",
       "<g id=\"edge2\" class=\"edge\"><title>0&#45;&gt;2</title>\r\n",
       "<path fill=\"none\" stroke=\"black\" d=\"M266.296,-698.907C272.606,-690.014 279.348,-680.509 285.859,-671.331\"/>\r\n",
       "<polygon fill=\"black\" stroke=\"black\" points=\"288.823,-673.202 291.754,-663.021 283.114,-669.152 288.823,-673.202\"/>\r\n",
       "<text text-anchor=\"middle\" x=\"295.944\" y=\"-683.967\" font-family=\"Helvetica,sans-Serif\" font-size=\"14.00\">False</text>\r\n",
       "</g>\r\n",
       "<!-- 3 -->\r\n",
       "<g id=\"node4\" class=\"node\"><title>3</title>\r\n",
       "<path fill=\"#39e581\" fill-opacity=\"0.949020\" stroke=\"black\" d=\"M299.5,-544C299.5,-544 155.5,-544 155.5,-544 149.5,-544 143.5,-538 143.5,-532 143.5,-532 143.5,-473 143.5,-473 143.5,-467 149.5,-461 155.5,-461 155.5,-461 299.5,-461 299.5,-461 305.5,-461 311.5,-467 311.5,-473 311.5,-473 311.5,-532 311.5,-532 311.5,-538 305.5,-544 299.5,-544\"/>\r\n",
       "<text text-anchor=\"middle\" x=\"227.5\" y=\"-528.8\" font-family=\"Helvetica,sans-Serif\" font-size=\"14.00\">petal width (cm) &lt;= 1.65</text>\r\n",
       "<text text-anchor=\"middle\" x=\"227.5\" y=\"-513.8\" font-family=\"Helvetica,sans-Serif\" font-size=\"14.00\">gini = 0.093</text>\r\n",
       "<text text-anchor=\"middle\" x=\"227.5\" y=\"-498.8\" font-family=\"Helvetica,sans-Serif\" font-size=\"14.00\">samples = 41</text>\r\n",
       "<text text-anchor=\"middle\" x=\"227.5\" y=\"-483.8\" font-family=\"Helvetica,sans-Serif\" font-size=\"14.00\">value = [0, 39, 2]</text>\r\n",
       "<text text-anchor=\"middle\" x=\"227.5\" y=\"-468.8\" font-family=\"Helvetica,sans-Serif\" font-size=\"14.00\">class = versicolor</text>\r\n",
       "</g>\r\n",
       "<!-- 2&#45;&gt;3 -->\r\n",
       "<g id=\"edge3\" class=\"edge\"><title>2&#45;&gt;3</title>\r\n",
       "<path fill=\"none\" stroke=\"black\" d=\"M288.234,-579.907C281.093,-570.923 273.456,-561.315 266.091,-552.05\"/>\r\n",
       "<polygon fill=\"black\" stroke=\"black\" points=\"268.671,-549.671 259.709,-544.021 263.191,-554.027 268.671,-549.671\"/>\r\n",
       "</g>\r\n",
       "<!-- 8 -->\r\n",
       "<g id=\"node9\" class=\"node\"><title>8</title>\r\n",
       "<path fill=\"#8139e5\" fill-opacity=\"0.949020\" stroke=\"black\" d=\"M481.5,-544C481.5,-544 345.5,-544 345.5,-544 339.5,-544 333.5,-538 333.5,-532 333.5,-532 333.5,-473 333.5,-473 333.5,-467 339.5,-461 345.5,-461 345.5,-461 481.5,-461 481.5,-461 487.5,-461 493.5,-467 493.5,-473 493.5,-473 493.5,-532 493.5,-532 493.5,-538 487.5,-544 481.5,-544\"/>\r\n",
       "<text text-anchor=\"middle\" x=\"413.5\" y=\"-528.8\" font-family=\"Helvetica,sans-Serif\" font-size=\"14.00\">petal width (cm) &lt;= 1.7</text>\r\n",
       "<text text-anchor=\"middle\" x=\"413.5\" y=\"-513.8\" font-family=\"Helvetica,sans-Serif\" font-size=\"14.00\">gini = 0.093</text>\r\n",
       "<text text-anchor=\"middle\" x=\"413.5\" y=\"-498.8\" font-family=\"Helvetica,sans-Serif\" font-size=\"14.00\">samples = 41</text>\r\n",
       "<text text-anchor=\"middle\" x=\"413.5\" y=\"-483.8\" font-family=\"Helvetica,sans-Serif\" font-size=\"14.00\">value = [0, 2, 39]</text>\r\n",
       "<text text-anchor=\"middle\" x=\"413.5\" y=\"-468.8\" font-family=\"Helvetica,sans-Serif\" font-size=\"14.00\">class = virginica</text>\r\n",
       "</g>\r\n",
       "<!-- 2&#45;&gt;8 -->\r\n",
       "<g id=\"edge8\" class=\"edge\"><title>2&#45;&gt;8</title>\r\n",
       "<path fill=\"none\" stroke=\"black\" d=\"M352.766,-579.907C359.907,-570.923 367.544,-561.315 374.909,-552.05\"/>\r\n",
       "<polygon fill=\"black\" stroke=\"black\" points=\"377.809,-554.027 381.291,-544.021 372.329,-549.671 377.809,-554.027\"/>\r\n",
       "</g>\r\n",
       "<!-- 4 -->\r\n",
       "<g id=\"node5\" class=\"node\"><title>4</title>\r\n",
       "<path fill=\"#39e581\" stroke=\"black\" d=\"M115,-417.5C115,-417.5 12,-417.5 12,-417.5 6,-417.5 -7.10543e-015,-411.5 -7.10543e-015,-405.5 -7.10543e-015,-405.5 -7.10543e-015,-361.5 -7.10543e-015,-361.5 -7.10543e-015,-355.5 6,-349.5 12,-349.5 12,-349.5 115,-349.5 115,-349.5 121,-349.5 127,-355.5 127,-361.5 127,-361.5 127,-405.5 127,-405.5 127,-411.5 121,-417.5 115,-417.5\"/>\r\n",
       "<text text-anchor=\"middle\" x=\"63.5\" y=\"-402.3\" font-family=\"Helvetica,sans-Serif\" font-size=\"14.00\">gini = 0.0</text>\r\n",
       "<text text-anchor=\"middle\" x=\"63.5\" y=\"-387.3\" font-family=\"Helvetica,sans-Serif\" font-size=\"14.00\">samples = 38</text>\r\n",
       "<text text-anchor=\"middle\" x=\"63.5\" y=\"-372.3\" font-family=\"Helvetica,sans-Serif\" font-size=\"14.00\">value = [0, 38, 0]</text>\r\n",
       "<text text-anchor=\"middle\" x=\"63.5\" y=\"-357.3\" font-family=\"Helvetica,sans-Serif\" font-size=\"14.00\">class = versicolor</text>\r\n",
       "</g>\r\n",
       "<!-- 3&#45;&gt;4 -->\r\n",
       "<g id=\"edge4\" class=\"edge\"><title>3&#45;&gt;4</title>\r\n",
       "<path fill=\"none\" stroke=\"black\" d=\"M170.601,-460.907C153.742,-448.88 135.316,-435.735 118.574,-423.791\"/>\r\n",
       "<polygon fill=\"black\" stroke=\"black\" points=\"120.164,-420.625 109.99,-417.667 116.098,-426.324 120.164,-420.625\"/>\r\n",
       "</g>\r\n",
       "<!-- 5 -->\r\n",
       "<g id=\"node6\" class=\"node\"><title>5</title>\r\n",
       "<path fill=\"#8139e5\" fill-opacity=\"0.498039\" stroke=\"black\" d=\"M297.5,-425C297.5,-425 157.5,-425 157.5,-425 151.5,-425 145.5,-419 145.5,-413 145.5,-413 145.5,-354 145.5,-354 145.5,-348 151.5,-342 157.5,-342 157.5,-342 297.5,-342 297.5,-342 303.5,-342 309.5,-348 309.5,-354 309.5,-354 309.5,-413 309.5,-413 309.5,-419 303.5,-425 297.5,-425\"/>\r\n",
       "<text text-anchor=\"middle\" x=\"227.5\" y=\"-409.8\" font-family=\"Helvetica,sans-Serif\" font-size=\"14.00\">sepal width (cm) &lt;= 3.1</text>\r\n",
       "<text text-anchor=\"middle\" x=\"227.5\" y=\"-394.8\" font-family=\"Helvetica,sans-Serif\" font-size=\"14.00\">gini = 0.444</text>\r\n",
       "<text text-anchor=\"middle\" x=\"227.5\" y=\"-379.8\" font-family=\"Helvetica,sans-Serif\" font-size=\"14.00\">samples = 3</text>\r\n",
       "<text text-anchor=\"middle\" x=\"227.5\" y=\"-364.8\" font-family=\"Helvetica,sans-Serif\" font-size=\"14.00\">value = [0, 1, 2]</text>\r\n",
       "<text text-anchor=\"middle\" x=\"227.5\" y=\"-349.8\" font-family=\"Helvetica,sans-Serif\" font-size=\"14.00\">class = virginica</text>\r\n",
       "</g>\r\n",
       "<!-- 3&#45;&gt;5 -->\r\n",
       "<g id=\"edge5\" class=\"edge\"><title>3&#45;&gt;5</title>\r\n",
       "<path fill=\"none\" stroke=\"black\" d=\"M227.5,-460.907C227.5,-452.649 227.5,-443.864 227.5,-435.302\"/>\r\n",
       "<polygon fill=\"black\" stroke=\"black\" points=\"231,-435.021 227.5,-425.021 224,-435.021 231,-435.021\"/>\r\n",
       "</g>\r\n",
       "<!-- 6 -->\r\n",
       "<g id=\"node7\" class=\"node\"><title>6</title>\r\n",
       "<path fill=\"#8139e5\" stroke=\"black\" d=\"M138.5,-298.5C138.5,-298.5 46.5,-298.5 46.5,-298.5 40.5,-298.5 34.5,-292.5 34.5,-286.5 34.5,-286.5 34.5,-242.5 34.5,-242.5 34.5,-236.5 40.5,-230.5 46.5,-230.5 46.5,-230.5 138.5,-230.5 138.5,-230.5 144.5,-230.5 150.5,-236.5 150.5,-242.5 150.5,-242.5 150.5,-286.5 150.5,-286.5 150.5,-292.5 144.5,-298.5 138.5,-298.5\"/>\r\n",
       "<text text-anchor=\"middle\" x=\"92.5\" y=\"-283.3\" font-family=\"Helvetica,sans-Serif\" font-size=\"14.00\">gini = 0.0</text>\r\n",
       "<text text-anchor=\"middle\" x=\"92.5\" y=\"-268.3\" font-family=\"Helvetica,sans-Serif\" font-size=\"14.00\">samples = 2</text>\r\n",
       "<text text-anchor=\"middle\" x=\"92.5\" y=\"-253.3\" font-family=\"Helvetica,sans-Serif\" font-size=\"14.00\">value = [0, 0, 2]</text>\r\n",
       "<text text-anchor=\"middle\" x=\"92.5\" y=\"-238.3\" font-family=\"Helvetica,sans-Serif\" font-size=\"14.00\">class = virginica</text>\r\n",
       "</g>\r\n",
       "<!-- 5&#45;&gt;6 -->\r\n",
       "<g id=\"edge6\" class=\"edge\"><title>5&#45;&gt;6</title>\r\n",
       "<path fill=\"none\" stroke=\"black\" d=\"M180.662,-341.907C167.039,-330.101 152.173,-317.217 138.596,-305.45\"/>\r\n",
       "<polygon fill=\"black\" stroke=\"black\" points=\"140.619,-302.571 130.77,-298.667 136.034,-307.861 140.619,-302.571\"/>\r\n",
       "</g>\r\n",
       "<!-- 7 -->\r\n",
       "<g id=\"node8\" class=\"node\"><title>7</title>\r\n",
       "<path fill=\"#39e581\" stroke=\"black\" d=\"M284,-298.5C284,-298.5 181,-298.5 181,-298.5 175,-298.5 169,-292.5 169,-286.5 169,-286.5 169,-242.5 169,-242.5 169,-236.5 175,-230.5 181,-230.5 181,-230.5 284,-230.5 284,-230.5 290,-230.5 296,-236.5 296,-242.5 296,-242.5 296,-286.5 296,-286.5 296,-292.5 290,-298.5 284,-298.5\"/>\r\n",
       "<text text-anchor=\"middle\" x=\"232.5\" y=\"-283.3\" font-family=\"Helvetica,sans-Serif\" font-size=\"14.00\">gini = 0.0</text>\r\n",
       "<text text-anchor=\"middle\" x=\"232.5\" y=\"-268.3\" font-family=\"Helvetica,sans-Serif\" font-size=\"14.00\">samples = 1</text>\r\n",
       "<text text-anchor=\"middle\" x=\"232.5\" y=\"-253.3\" font-family=\"Helvetica,sans-Serif\" font-size=\"14.00\">value = [0, 1, 0]</text>\r\n",
       "<text text-anchor=\"middle\" x=\"232.5\" y=\"-238.3\" font-family=\"Helvetica,sans-Serif\" font-size=\"14.00\">class = versicolor</text>\r\n",
       "</g>\r\n",
       "<!-- 5&#45;&gt;7 -->\r\n",
       "<g id=\"edge7\" class=\"edge\"><title>5&#45;&gt;7</title>\r\n",
       "<path fill=\"none\" stroke=\"black\" d=\"M229.235,-341.907C229.692,-331.204 230.187,-319.615 230.651,-308.776\"/>\r\n",
       "<polygon fill=\"black\" stroke=\"black\" points=\"234.152,-308.807 231.083,-298.667 227.159,-308.508 234.152,-308.807\"/>\r\n",
       "</g>\r\n",
       "<!-- 9 -->\r\n",
       "<g id=\"node10\" class=\"node\"><title>9</title>\r\n",
       "<path fill=\"#8139e5\" fill-opacity=\"0.498039\" stroke=\"black\" d=\"M487.5,-425C487.5,-425 339.5,-425 339.5,-425 333.5,-425 327.5,-419 327.5,-413 327.5,-413 327.5,-354 327.5,-354 327.5,-348 333.5,-342 339.5,-342 339.5,-342 487.5,-342 487.5,-342 493.5,-342 499.5,-348 499.5,-354 499.5,-354 499.5,-413 499.5,-413 499.5,-419 493.5,-425 487.5,-425\"/>\r\n",
       "<text text-anchor=\"middle\" x=\"413.5\" y=\"-409.8\" font-family=\"Helvetica,sans-Serif\" font-size=\"14.00\">sepal width (cm) &lt;= 3.05</text>\r\n",
       "<text text-anchor=\"middle\" x=\"413.5\" y=\"-394.8\" font-family=\"Helvetica,sans-Serif\" font-size=\"14.00\">gini = 0.444</text>\r\n",
       "<text text-anchor=\"middle\" x=\"413.5\" y=\"-379.8\" font-family=\"Helvetica,sans-Serif\" font-size=\"14.00\">samples = 6</text>\r\n",
       "<text text-anchor=\"middle\" x=\"413.5\" y=\"-364.8\" font-family=\"Helvetica,sans-Serif\" font-size=\"14.00\">value = [0, 2, 4]</text>\r\n",
       "<text text-anchor=\"middle\" x=\"413.5\" y=\"-349.8\" font-family=\"Helvetica,sans-Serif\" font-size=\"14.00\">class = virginica</text>\r\n",
       "</g>\r\n",
       "<!-- 8&#45;&gt;9 -->\r\n",
       "<g id=\"edge9\" class=\"edge\"><title>8&#45;&gt;9</title>\r\n",
       "<path fill=\"none\" stroke=\"black\" d=\"M413.5,-460.907C413.5,-452.649 413.5,-443.864 413.5,-435.302\"/>\r\n",
       "<polygon fill=\"black\" stroke=\"black\" points=\"417,-435.021 413.5,-425.021 410,-435.021 417,-435.021\"/>\r\n",
       "</g>\r\n",
       "<!-- 16 -->\r\n",
       "<g id=\"node17\" class=\"node\"><title>16</title>\r\n",
       "<path fill=\"#8139e5\" stroke=\"black\" d=\"M627,-417.5C627,-417.5 530,-417.5 530,-417.5 524,-417.5 518,-411.5 518,-405.5 518,-405.5 518,-361.5 518,-361.5 518,-355.5 524,-349.5 530,-349.5 530,-349.5 627,-349.5 627,-349.5 633,-349.5 639,-355.5 639,-361.5 639,-361.5 639,-405.5 639,-405.5 639,-411.5 633,-417.5 627,-417.5\"/>\r\n",
       "<text text-anchor=\"middle\" x=\"578.5\" y=\"-402.3\" font-family=\"Helvetica,sans-Serif\" font-size=\"14.00\">gini = 0.0</text>\r\n",
       "<text text-anchor=\"middle\" x=\"578.5\" y=\"-387.3\" font-family=\"Helvetica,sans-Serif\" font-size=\"14.00\">samples = 35</text>\r\n",
       "<text text-anchor=\"middle\" x=\"578.5\" y=\"-372.3\" font-family=\"Helvetica,sans-Serif\" font-size=\"14.00\">value = [0, 0, 35]</text>\r\n",
       "<text text-anchor=\"middle\" x=\"578.5\" y=\"-357.3\" font-family=\"Helvetica,sans-Serif\" font-size=\"14.00\">class = virginica</text>\r\n",
       "</g>\r\n",
       "<!-- 8&#45;&gt;16 -->\r\n",
       "<g id=\"edge16\" class=\"edge\"><title>8&#45;&gt;16</title>\r\n",
       "<path fill=\"none\" stroke=\"black\" d=\"M470.746,-460.907C487.864,-448.769 506.586,-435.493 523.553,-423.462\"/>\r\n",
       "<polygon fill=\"black\" stroke=\"black\" points=\"525.593,-426.306 531.726,-417.667 521.544,-420.596 525.593,-426.306\"/>\r\n",
       "</g>\r\n",
       "<!-- 10 -->\r\n",
       "<g id=\"node11\" class=\"node\"><title>10</title>\r\n",
       "<path fill=\"#8139e5\" fill-opacity=\"0.749020\" stroke=\"black\" d=\"M480.5,-306C480.5,-306 336.5,-306 336.5,-306 330.5,-306 324.5,-300 324.5,-294 324.5,-294 324.5,-235 324.5,-235 324.5,-229 330.5,-223 336.5,-223 336.5,-223 480.5,-223 480.5,-223 486.5,-223 492.5,-229 492.5,-235 492.5,-235 492.5,-294 492.5,-294 492.5,-300 486.5,-306 480.5,-306\"/>\r\n",
       "<text text-anchor=\"middle\" x=\"408.5\" y=\"-290.8\" font-family=\"Helvetica,sans-Serif\" font-size=\"14.00\">petal width (cm) &lt;= 1.55</text>\r\n",
       "<text text-anchor=\"middle\" x=\"408.5\" y=\"-275.8\" font-family=\"Helvetica,sans-Serif\" font-size=\"14.00\">gini = 0.32</text>\r\n",
       "<text text-anchor=\"middle\" x=\"408.5\" y=\"-260.8\" font-family=\"Helvetica,sans-Serif\" font-size=\"14.00\">samples = 5</text>\r\n",
       "<text text-anchor=\"middle\" x=\"408.5\" y=\"-245.8\" font-family=\"Helvetica,sans-Serif\" font-size=\"14.00\">value = [0, 1, 4]</text>\r\n",
       "<text text-anchor=\"middle\" x=\"408.5\" y=\"-230.8\" font-family=\"Helvetica,sans-Serif\" font-size=\"14.00\">class = virginica</text>\r\n",
       "</g>\r\n",
       "<!-- 9&#45;&gt;10 -->\r\n",
       "<g id=\"edge10\" class=\"edge\"><title>9&#45;&gt;10</title>\r\n",
       "<path fill=\"none\" stroke=\"black\" d=\"M411.765,-341.907C411.408,-333.558 411.029,-324.671 410.659,-316.02\"/>\r\n",
       "<polygon fill=\"black\" stroke=\"black\" points=\"414.156,-315.862 410.232,-306.021 407.162,-316.161 414.156,-315.862\"/>\r\n",
       "</g>\r\n",
       "<!-- 15 -->\r\n",
       "<g id=\"node16\" class=\"node\"><title>15</title>\r\n",
       "<path fill=\"#39e581\" stroke=\"black\" d=\"M626,-298.5C626,-298.5 523,-298.5 523,-298.5 517,-298.5 511,-292.5 511,-286.5 511,-286.5 511,-242.5 511,-242.5 511,-236.5 517,-230.5 523,-230.5 523,-230.5 626,-230.5 626,-230.5 632,-230.5 638,-236.5 638,-242.5 638,-242.5 638,-286.5 638,-286.5 638,-292.5 632,-298.5 626,-298.5\"/>\r\n",
       "<text text-anchor=\"middle\" x=\"574.5\" y=\"-283.3\" font-family=\"Helvetica,sans-Serif\" font-size=\"14.00\">gini = 0.0</text>\r\n",
       "<text text-anchor=\"middle\" x=\"574.5\" y=\"-268.3\" font-family=\"Helvetica,sans-Serif\" font-size=\"14.00\">samples = 1</text>\r\n",
       "<text text-anchor=\"middle\" x=\"574.5\" y=\"-253.3\" font-family=\"Helvetica,sans-Serif\" font-size=\"14.00\">value = [0, 1, 0]</text>\r\n",
       "<text text-anchor=\"middle\" x=\"574.5\" y=\"-238.3\" font-family=\"Helvetica,sans-Serif\" font-size=\"14.00\">class = versicolor</text>\r\n",
       "</g>\r\n",
       "<!-- 9&#45;&gt;15 -->\r\n",
       "<g id=\"edge15\" class=\"edge\"><title>9&#45;&gt;15</title>\r\n",
       "<path fill=\"none\" stroke=\"black\" d=\"M469.358,-341.907C485.909,-329.88 503.998,-316.735 520.433,-304.791\"/>\r\n",
       "<polygon fill=\"black\" stroke=\"black\" points=\"522.828,-307.377 528.86,-298.667 518.713,-301.714 522.828,-307.377\"/>\r\n",
       "</g>\r\n",
       "<!-- 11 -->\r\n",
       "<g id=\"node12\" class=\"node\"><title>11</title>\r\n",
       "<path fill=\"#8139e5\" stroke=\"black\" d=\"M373.5,-179.5C373.5,-179.5 281.5,-179.5 281.5,-179.5 275.5,-179.5 269.5,-173.5 269.5,-167.5 269.5,-167.5 269.5,-123.5 269.5,-123.5 269.5,-117.5 275.5,-111.5 281.5,-111.5 281.5,-111.5 373.5,-111.5 373.5,-111.5 379.5,-111.5 385.5,-117.5 385.5,-123.5 385.5,-123.5 385.5,-167.5 385.5,-167.5 385.5,-173.5 379.5,-179.5 373.5,-179.5\"/>\r\n",
       "<text text-anchor=\"middle\" x=\"327.5\" y=\"-164.3\" font-family=\"Helvetica,sans-Serif\" font-size=\"14.00\">gini = 0.0</text>\r\n",
       "<text text-anchor=\"middle\" x=\"327.5\" y=\"-149.3\" font-family=\"Helvetica,sans-Serif\" font-size=\"14.00\">samples = 3</text>\r\n",
       "<text text-anchor=\"middle\" x=\"327.5\" y=\"-134.3\" font-family=\"Helvetica,sans-Serif\" font-size=\"14.00\">value = [0, 0, 3]</text>\r\n",
       "<text text-anchor=\"middle\" x=\"327.5\" y=\"-119.3\" font-family=\"Helvetica,sans-Serif\" font-size=\"14.00\">class = virginica</text>\r\n",
       "</g>\r\n",
       "<!-- 10&#45;&gt;11 -->\r\n",
       "<g id=\"edge11\" class=\"edge\"><title>10&#45;&gt;11</title>\r\n",
       "<path fill=\"none\" stroke=\"black\" d=\"M380.397,-222.907C372.605,-211.652 364.136,-199.418 356.304,-188.106\"/>\r\n",
       "<polygon fill=\"black\" stroke=\"black\" points=\"359.032,-185.897 350.462,-179.667 353.276,-189.881 359.032,-185.897\"/>\r\n",
       "</g>\r\n",
       "<!-- 12 -->\r\n",
       "<g id=\"node13\" class=\"node\"><title>12</title>\r\n",
       "<path fill=\"none\" stroke=\"black\" d=\"M561.5,-187C561.5,-187 415.5,-187 415.5,-187 409.5,-187 403.5,-181 403.5,-175 403.5,-175 403.5,-116 403.5,-116 403.5,-110 409.5,-104 415.5,-104 415.5,-104 561.5,-104 561.5,-104 567.5,-104 573.5,-110 573.5,-116 573.5,-116 573.5,-175 573.5,-175 573.5,-181 567.5,-187 561.5,-187\"/>\r\n",
       "<text text-anchor=\"middle\" x=\"488.5\" y=\"-171.8\" font-family=\"Helvetica,sans-Serif\" font-size=\"14.00\">sepal length (cm) &lt;= 6.6</text>\r\n",
       "<text text-anchor=\"middle\" x=\"488.5\" y=\"-156.8\" font-family=\"Helvetica,sans-Serif\" font-size=\"14.00\">gini = 0.5</text>\r\n",
       "<text text-anchor=\"middle\" x=\"488.5\" y=\"-141.8\" font-family=\"Helvetica,sans-Serif\" font-size=\"14.00\">samples = 2</text>\r\n",
       "<text text-anchor=\"middle\" x=\"488.5\" y=\"-126.8\" font-family=\"Helvetica,sans-Serif\" font-size=\"14.00\">value = [0, 1, 1]</text>\r\n",
       "<text text-anchor=\"middle\" x=\"488.5\" y=\"-111.8\" font-family=\"Helvetica,sans-Serif\" font-size=\"14.00\">class = versicolor</text>\r\n",
       "</g>\r\n",
       "<!-- 10&#45;&gt;12 -->\r\n",
       "<g id=\"edge12\" class=\"edge\"><title>10&#45;&gt;12</title>\r\n",
       "<path fill=\"none\" stroke=\"black\" d=\"M436.256,-222.907C442.337,-214.014 448.836,-204.509 455.111,-195.331\"/>\r\n",
       "<polygon fill=\"black\" stroke=\"black\" points=\"458.038,-197.251 460.793,-187.021 452.26,-193.3 458.038,-197.251\"/>\r\n",
       "</g>\r\n",
       "<!-- 13 -->\r\n",
       "<g id=\"node14\" class=\"node\"><title>13</title>\r\n",
       "<path fill=\"#39e581\" stroke=\"black\" d=\"M470,-68C470,-68 367,-68 367,-68 361,-68 355,-62 355,-56 355,-56 355,-12 355,-12 355,-6 361,-0 367,-0 367,-0 470,-0 470,-0 476,-0 482,-6 482,-12 482,-12 482,-56 482,-56 482,-62 476,-68 470,-68\"/>\r\n",
       "<text text-anchor=\"middle\" x=\"418.5\" y=\"-52.8\" font-family=\"Helvetica,sans-Serif\" font-size=\"14.00\">gini = 0.0</text>\r\n",
       "<text text-anchor=\"middle\" x=\"418.5\" y=\"-37.8\" font-family=\"Helvetica,sans-Serif\" font-size=\"14.00\">samples = 1</text>\r\n",
       "<text text-anchor=\"middle\" x=\"418.5\" y=\"-22.8\" font-family=\"Helvetica,sans-Serif\" font-size=\"14.00\">value = [0, 1, 0]</text>\r\n",
       "<text text-anchor=\"middle\" x=\"418.5\" y=\"-7.8\" font-family=\"Helvetica,sans-Serif\" font-size=\"14.00\">class = versicolor</text>\r\n",
       "</g>\r\n",
       "<!-- 12&#45;&gt;13 -->\r\n",
       "<g id=\"edge13\" class=\"edge\"><title>12&#45;&gt;13</title>\r\n",
       "<path fill=\"none\" stroke=\"black\" d=\"M462.435,-103.726C456.837,-94.9703 450.913,-85.7032 445.289,-76.9051\"/>\r\n",
       "<polygon fill=\"black\" stroke=\"black\" points=\"448.123,-74.8399 439.787,-68.2996 442.225,-78.6103 448.123,-74.8399\"/>\r\n",
       "</g>\r\n",
       "<!-- 14 -->\r\n",
       "<g id=\"node15\" class=\"node\"><title>14</title>\r\n",
       "<path fill=\"#8139e5\" stroke=\"black\" d=\"M604.5,-68C604.5,-68 512.5,-68 512.5,-68 506.5,-68 500.5,-62 500.5,-56 500.5,-56 500.5,-12 500.5,-12 500.5,-6 506.5,-0 512.5,-0 512.5,-0 604.5,-0 604.5,-0 610.5,-0 616.5,-6 616.5,-12 616.5,-12 616.5,-56 616.5,-56 616.5,-62 610.5,-68 604.5,-68\"/>\r\n",
       "<text text-anchor=\"middle\" x=\"558.5\" y=\"-52.8\" font-family=\"Helvetica,sans-Serif\" font-size=\"14.00\">gini = 0.0</text>\r\n",
       "<text text-anchor=\"middle\" x=\"558.5\" y=\"-37.8\" font-family=\"Helvetica,sans-Serif\" font-size=\"14.00\">samples = 1</text>\r\n",
       "<text text-anchor=\"middle\" x=\"558.5\" y=\"-22.8\" font-family=\"Helvetica,sans-Serif\" font-size=\"14.00\">value = [0, 0, 1]</text>\r\n",
       "<text text-anchor=\"middle\" x=\"558.5\" y=\"-7.8\" font-family=\"Helvetica,sans-Serif\" font-size=\"14.00\">class = virginica</text>\r\n",
       "</g>\r\n",
       "<!-- 12&#45;&gt;14 -->\r\n",
       "<g id=\"edge14\" class=\"edge\"><title>12&#45;&gt;14</title>\r\n",
       "<path fill=\"none\" stroke=\"black\" d=\"M514.565,-103.726C520.163,-94.9703 526.087,-85.7032 531.711,-76.9051\"/>\r\n",
       "<polygon fill=\"black\" stroke=\"black\" points=\"534.775,-78.6103 537.213,-68.2996 528.877,-74.8399 534.775,-78.6103\"/>\r\n",
       "</g>\r\n",
       "</g>\r\n",
       "</svg>\r\n"
      ],
      "text/plain": [
       "<graphviz.files.Source at 0x2173b8bb320>"
      ]
     },
     "execution_count": 40,
     "metadata": {},
     "output_type": "execute_result"
    }
   ],
   "source": [
    "dot = tree.export_graphviz(clf,out_file=None,\n",
    "                          feature_names=iris.feature_names,\n",
    "                          class_names=iris.target_names,\n",
    "                          filled=True,rounded=True)\n",
    "# 生成一个DOT格式的决策树\n",
    "graph = graphviz.Source(dot)\n",
    "# 使用graphviz逐字渲染dot对象\n",
    "graph.render(\"iris\")\n",
    "# 在当前工作路径输出iris.pdf的文件\n",
    "graph\n",
    "# 显示图形"
   ]
  },
  {
   "cell_type": "markdown",
   "metadata": {},
   "source": [
    "- export_graphviz生成一个DOT格式的决策树：\n",
    "    - out_file:输出的dot文件的名字,默认为None表示不输出文件,可以是自定义名字如\"tree.dot\"\n",
    "    - feature_names:每个属性的名字\n",
    "    - class_names:每个因变量类别的名字\n",
    "    - label:是否显示不纯度信息的标签,默认为\"all\"表都显示,可以是\"root\"或\"none\"\n",
    "    - filled:是否给每个结点的主分类绘制不同的颜色,默认为False\n",
    "    - rounded:默认为Ture,表示对每个结点的边框加圆角,并使用Helvetica字体\n",
    "    - 更多参数说明查看[帮助文件](https://scikit-learn.org/stable/modules/generated/sklearn.tree.export_graphviz.html#sklearn.tree.export_graphviz)"
   ]
  },
  {
   "cell_type": "markdown",
   "metadata": {},
   "source": [
    "# scikit-learn实现cart回归树"
   ]
  },
  {
   "cell_type": "code",
   "execution_count": 75,
   "metadata": {},
   "outputs": [],
   "source": [
    "from sklearn.datasets import load_boston\n",
    "# 加载boston数据函数\n",
    "from sklearn.model_selection import cross_val_score\n",
    "# 加载交叉验证的函数\n",
    "from sklearn.model_selection import train_test_split\n",
    "boston = load_boston()\n",
    "X = boston.data\n",
    "y = boston.target\n",
    "X_train,X_test,y_train,y_test = train_test_split(X,y,test_size=0.2,random_state=12)\n",
    "# 定义自变量和因变量数据,分训练集和测试集"
   ]
  },
  {
   "cell_type": "code",
   "execution_count": 80,
   "metadata": {},
   "outputs": [
    {
     "name": "stdout",
     "output_type": "stream",
     "text": [
      "best params: {'max_depth': 7, 'min_impurity_decrease': 0.005714285714285714, 'min_samples_split': 2}\n",
      "best score: 0.8147177037588655\n"
     ]
    }
   ],
   "source": [
    "from sklearn.model_selection import GridSearchCV\n",
    "# 加载调优函数\n",
    "gini_impure = np.linspace(0,0.01,50)\n",
    "# 设置参数可取值\n",
    "param_grid = {\"min_impurity_decrease\":gini_impure,\n",
    "             \"max_depth\":range(2,10),\n",
    "             \"min_samples_split\":range(2,30,2)}\n",
    "# 设置参数网格\n",
    "reg = GridSearchCV(tree.DecisionTreeRegressor(),param_grid,cv=5,iid=False)\n",
    "# 建模\n",
    "reg.fit(X_train,y_train)\n",
    "# 拟合训练集数据\n",
    "print(f\"best params: {reg.best_params_}\")\n",
    "print(f\"best score: {reg.best_score_}\")\n",
    "# 打印结果"
   ]
  },
  {
   "cell_type": "code",
   "execution_count": 81,
   "metadata": {
    "scrolled": true
   },
   "outputs": [
    {
     "name": "stdout",
     "output_type": "stream",
     "text": [
      "train score: 0.9659168115022326\n",
      "test score: 0.8511460357384384\n"
     ]
    }
   ],
   "source": [
    "reg = tree.DecisionTreeRegressor(max_depth=7,\n",
    "                                 min_impurity_decrease=0.0057,\n",
    "                                 min_samples_split=2)\n",
    "# 加载模型\n",
    "reg.fit(X_train,y_train)\n",
    "# 拟合数据\n",
    "print(f\"train score: {reg.score(X_train,y_train)}\")\n",
    "print(f\"test score: {reg.score(X_test,y_test)}\")\n",
    "# 查看训练集和测试集的分数"
   ]
  },
  {
   "cell_type": "code",
   "execution_count": 83,
   "metadata": {
    "scrolled": false
   },
   "outputs": [
    {
     "data": {
      "text/plain": [
       "'boston.pdf'"
      ]
     },
     "execution_count": 83,
     "metadata": {},
     "output_type": "execute_result"
    }
   ],
   "source": [
    "dot = tree.export_graphviz(reg,out_file=None,\n",
    "                          feature_names=boston.feature_names,\n",
    "                          filled=True,rounded=True)\n",
    "# 生成一个DOT格式的决策树\n",
    "graph = graphviz.Source(dot)\n",
    "# 使用graphviz逐字渲染dot对象\n",
    "graph.render(\"boston\")\n",
    "# 生成对应的图形文件boston.pdf"
   ]
  }
 ],
 "metadata": {
  "kernelspec": {
   "display_name": "Python 3",
   "language": "python",
   "name": "python3"
  },
  "language_info": {
   "codemirror_mode": {
    "name": "ipython",
    "version": 3
   },
   "file_extension": ".py",
   "mimetype": "text/x-python",
   "name": "python",
   "nbconvert_exporter": "python",
   "pygments_lexer": "ipython3",
   "version": "3.7.2"
  }
 },
 "nbformat": 4,
 "nbformat_minor": 2
}
