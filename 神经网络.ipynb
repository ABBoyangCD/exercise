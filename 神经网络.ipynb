{
 "cells": [
  {
   "cell_type": "code",
   "execution_count": 1,
   "metadata": {},
   "outputs": [],
   "source": [
    "import warnings\n",
    "warnings.filterwarnings(\"ignore\")"
   ]
  },
  {
   "cell_type": "markdown",
   "metadata": {},
   "source": [
    "# 激活函数绘制"
   ]
  },
  {
   "cell_type": "code",
   "execution_count": 2,
   "metadata": {},
   "outputs": [
    {
     "data": {
      "image/png": "[encoded data removed]",
      "text/plain": [
       "<Figure size 432x288 with 4 Axes>"
      ]
     },
     "metadata": {
      "needs_background": "light"
     },
     "output_type": "display_data"
    }
   ],
   "source": [
    "import matplotlib.pyplot as plt\n",
    "import numpy as np\n",
    "%matplotlib inline\n",
    "x = np.linspace(-10,10)\n",
    "y_sigmoid = 1/(1+np.exp(-x))  #sigmoid函数\n",
    "y_tanh = (np.exp(x)-np.exp(-x))/(np.exp(x)+np.exp(-x))  #tanh函数\n",
    "\n",
    "fig = plt.figure()\n",
    "# plot sigmoid\n",
    "ax = fig.add_subplot(221)\n",
    "ax.plot(x,y_sigmoid)\n",
    "ax.grid()\n",
    "ax.set_title('(a) Sigmoid')\n",
    "\n",
    "# plot tanh\n",
    "ax = fig.add_subplot(222)\n",
    "ax.plot(x,y_tanh)\n",
    "ax.grid()\n",
    "ax.set_title('(b) Tanh')\n",
    "\n",
    "# plot relu\n",
    "ax = fig.add_subplot(223)\n",
    "y_relu = np.array([0*item  if item<0 else item for item in x ]) \n",
    "ax.plot(x,y_relu)\n",
    "ax.grid()\n",
    "ax.set_title('(c) ReLu')\n",
    "\n",
    "#plot leaky relu\n",
    "ax = fig.add_subplot(224)\n",
    "y_relu = np.array([0.2*item  if item<0 else item for item in x ]) \n",
    "ax.plot(x,y_relu)\n",
    "ax.grid()\n",
    "ax.set_title('(d) Leaky ReLu')\n",
    "plt.tight_layout()#自动控制间隔\n"
   ]
  },
  {
   "cell_type": "markdown",
   "metadata": {},
   "source": [
    "# bp神经网络的python实现"
   ]
  },
  {
   "cell_type": "code",
   "execution_count": 1,
   "metadata": {
    "scrolled": true
   },
   "outputs": [
    {
     "name": "stdout",
     "output_type": "stream",
     "text": [
      "--------- 1.load data ------------\n",
      "--------- 2.training ------------\n",
      "\t-------- iter:  0  ,cost:  0.43068757483848286\n"
     ]
    },
    {
     "name": "stderr",
     "output_type": "stream",
     "text": [
      "D:\\conda\\lib\\site-packages\\sklearn\\preprocessing\\_encoders.py:415: FutureWarning: The handling of integer data will change in version 0.22. Currently, the categories are determined based on the range [0, max(values)], while in the future they will be determined based on the unique values.\n",
      "If you want the future behaviour and silence this warning, you can specify \"categories='auto'\".\n",
      "In case you used a LabelEncoder before this OneHotEncoder to convert the categories to integers, then you can now use the OneHotEncoder directly.\n",
      "  warnings.warn(msg, FutureWarning)\n"
     ]
    },
    {
     "name": "stdout",
     "output_type": "stream",
     "text": [
      "\t-------- iter:  100  ,cost:  0.024810703363097094\n",
      "\t-------- iter:  200  ,cost:  0.02958297163596528\n",
      "\t-------- iter:  300  ,cost:  0.021889724740696524\n",
      "\t-------- iter:  400  ,cost:  0.021627291863088264\n",
      "\t-------- iter:  500  ,cost:  0.020387240625655893\n",
      "\t-------- iter:  600  ,cost:  0.011041856159027707\n",
      "\t-------- iter:  700  ,cost:  0.010811835739303747\n",
      "\t-------- iter:  800  ,cost:  0.010793309196473937\n",
      "\t-------- iter:  900  ,cost:  0.016804344362374223\n",
      "\t-------- iter:  1000  ,cost:  0.010691452707805171\n",
      "--------- 3.get prediction ------------\n",
      "训练准确性为： 0.99\n"
     ]
    }
   ],
   "source": [
    "import numpy as np\n",
    "import pandas as pd\n",
    "from math import sqrt\n",
    "import matplotlib.pyplot as plt\n",
    "from sklearn.preprocessing import OneHotEncoder\n",
    "def load_data():\n",
    "    data=pd.read_table(\"bpdata.txt\",sep='\t',names=['x1','x2','y'])\n",
    "    feature=data[['x1','x2']].values #数据特征\n",
    "    label_tmp=data[['y']] #0,1\n",
    "    label=np.mat(OneHotEncoder().fit_transform(label_tmp).toarray())\n",
    "    n_class = label.shape[1]    # 得到类别的个数，2\n",
    "    return np.mat(feature), label,n_class \n",
    "\n",
    "def sig(x):\n",
    "    '''Sigmoid函数\n",
    "    input:  x(mat/float):自变量，可以是矩阵或者是任意实数\n",
    "    output: Sigmoid值(mat/float):Sigmoid函数的值\n",
    "    '''\n",
    "    return 1.0 / (1 + np.exp(-x))\n",
    "\n",
    "def partial_sig(x):\n",
    "    '''Sigmoid导函数的值\n",
    "    input:  x(mat/float):自变量，可以是矩阵或者是任意实数\n",
    "    output: out(mat/float):Sigmoid导函数的值\n",
    "    '''\n",
    "    m, n = np.shape(x)\n",
    "    out = np.mat(np.zeros((m, n)))\n",
    "    for i in range(m):\n",
    "        for j in range(n):\n",
    "            out[i, j] = sig(x[i, j]) * (1 - sig(x[i, j]))\n",
    "    return out\n",
    "\n",
    "def hidden_in(feature, w0, b0):\n",
    "    '''计算隐含层的输入\n",
    "    input:  feature(mat):特征\n",
    "            w0(mat):输入层到隐含层之间的权重\n",
    "            b0(mat):输入层到隐含层之间的偏置\n",
    "    output: hidden_in(mat):隐含层的输入\n",
    "    '''\n",
    "    m = np.shape(feature)[0]#m=400\n",
    "    hidden_in = feature * w0+b0\n",
    "    return hidden_in\n",
    "\n",
    "def hidden_out(hidden_in):\n",
    "    '''隐含层的输出\n",
    "    input:  hidden_in(mat):隐含层的输入\n",
    "    output: hidden_output(mat):隐含层的输出\n",
    "    '''\n",
    "    hidden_output = sig(hidden_in)  #sigmoid函数\n",
    "    return hidden_output;\n",
    "\n",
    "def predict_in(hidden_out, w1, b1):\n",
    "    '''计算输出层的输入\n",
    "    input:  hidden_out(mat):隐含层的输出\n",
    "            w1(mat):隐含层到输出层之间的权重\n",
    "            b1(mat):隐含层到输出层之间的偏置\n",
    "    output: predict_in(mat):输出层的输入\n",
    "    '''\n",
    "    m = np.shape(hidden_out)[0]\n",
    "    predict_in = hidden_out * w1+b1\n",
    "    return predict_in\n",
    "    \n",
    "def predict_out(predict_in):\n",
    "    '''输出层的输出\n",
    "    input:  predict_in(mat):输出层的输入\n",
    "    output: result(mat):输出层的输出\n",
    "    '''\n",
    "    result = sig(predict_in)\n",
    "    return result\n",
    "\n",
    "def bp_train(feature, label, n_hidden, maxCycle, alpha, n_output):\n",
    "    '''计算隐含层的输入\n",
    "    input:  feature(mat):特征\n",
    "            label(mat):标签\n",
    "            n_hidden(int):隐含层的节点个数\n",
    "            maxCycle(int):最大的迭代次数\n",
    "            alpha(float):学习率\n",
    "            n_output(int):输出层的节点个数\n",
    "    output: w0(mat):输入层到隐含层之间的权重\n",
    "            b0(mat):输入层到隐含层之间的偏置\n",
    "            w1(mat):隐含层到输出层之间的权重\n",
    "            b1(mat):隐含层到输出层之间的偏置\n",
    "    '''\n",
    "    m, n = np.shape(feature)#400,2\n",
    "    # 1、初始化\n",
    "    w0 = np.mat(np.random.rand(n, n_hidden))#2x20,两个输入，20个输出\n",
    "    b0 = np.mat(np.random.rand(1, n_hidden))#1x20\n",
    "    w1 = np.mat(np.random.rand(n_hidden, n_output))#20x2    \n",
    "    b1 = np.mat(np.random.rand(1, n_output))#1x2\n",
    "\n",
    "    # 2、训练\n",
    "    i = 0   #迭代次数\n",
    "    while i <= maxCycle:\n",
    "        # 2.1、信号正向传播\n",
    "        # 2.1.1、计算隐含层的输入\n",
    "        hidden_input = hidden_in(feature, w0, b0)  # mXn_hidden\n",
    "        # 2.1.2、计算隐含层的输出\n",
    "        hidden_output = hidden_out(hidden_input)\n",
    "        # 2.1.3、计算输出层的输入\n",
    "        output_in = predict_in(hidden_output, w1, b1)  # mXn_output\n",
    "        # 2.1.4、计算输出层的输出\n",
    "        output_out = predict_out(output_in)\n",
    "        \n",
    "        # 2.2、误差的反向传播\n",
    "        # 2.2.1、隐含层到输出层之间的残差\n",
    "        delta_output = -np.multiply((label - output_out), partial_sig(output_in))\n",
    "        # 2.2.2、输入层到隐含层之间的残差\n",
    "        delta_hidden = np.multiply((delta_output * w1.T), partial_sig(hidden_input))\n",
    "        \n",
    "        # 2.3、 修正权重和偏置       \n",
    "        w1 = w1 - alpha * (hidden_output.T * delta_output)\n",
    "        b1 = b1 - alpha * np.sum(delta_output, axis=0) * (1.0 / m)\n",
    "        w0 = w0 - alpha * (feature.T * delta_hidden)\n",
    "        b0 = b0 - alpha * np.sum(delta_hidden, axis=0) * (1.0 / m)\n",
    "        if i % 100 == 0:\n",
    "            print(\"\\t-------- iter: \", i, \" ,cost: \",  (1.0/2) * get_cost(get_predict(feature, w0, w1, b0, b1) - label))                \n",
    "        i += 1           \n",
    "    return w0, w1, b0, b1\n",
    "\n",
    "def get_cost(cost):\n",
    "    '''计算当前损失函数的值\n",
    "    input:  cost(mat):预测值与标签之间的差\n",
    "    output: cost_sum / m (double):损失函数的值\n",
    "    '''\n",
    "    m,n = np.shape(cost)\n",
    "    \n",
    "    cost_sum = 0.0\n",
    "    for i in range(m):\n",
    "        for j in range(n):\n",
    "            cost_sum += cost[i,j] * cost[i,j]\n",
    "    return cost_sum / m\n",
    "\n",
    "def get_predict(feature, w0, w1, b0, b1):\n",
    "    '''计算最终的预测\n",
    "    input:  feature(mat):特征\n",
    "            w0(mat):输入层到隐含层之间的权重\n",
    "            b0(mat):输入层到隐含层之间的偏置\n",
    "            w1(mat):隐含层到输出层之间的权重\n",
    "            b1(mat):隐含层到输出层之间的偏置\n",
    "    output: 预测值\n",
    "    '''\n",
    "    return predict_out(predict_in(hidden_out(hidden_in(feature, w0, b0)), w1, b1))    \n",
    "\n",
    "    \n",
    "def err_rate(label, pre):\n",
    "    '''计算训练样本上的错误率\n",
    "    input:  label(mat):训练样本的标签\n",
    "            pre(mat):训练样本的预测值\n",
    "    output: rate[0,0](float):错误率\n",
    "    '''\n",
    "    m = np.shape(label)[0]\n",
    "    err = 0.0\n",
    "    for i in range(m):\n",
    "        if label[i, 0] != pre[i, 0]:\n",
    "            err += 1\n",
    "    rate = err / m\n",
    "    return rate\n",
    "\n",
    "if __name__ == \"__main__\":\n",
    "    #导入数据\n",
    "    print(\"--------- 1.load data ------------\")\n",
    "    feature, label, n_class = load_data()#神经元有两个输入，两个输出\n",
    "    plt.figure(figsize=(8,4),dpi=100)\n",
    "    feature1=feature[:,0].getA()\n",
    "    feature2=feature[:,1].getA()\n",
    "    plt.scatter(feature1[0:200],feature2[0:200],color='b')\n",
    "    plt.scatter(feature1[200:],feature2[200:],color='r')\n",
    "    plt.title(\"original_data\")\n",
    "    \n",
    "    #训练网络模型\n",
    "    print(\"--------- 2.training ------------\")\n",
    "    w0, w1, b0, b1 = bp_train(feature, label, 20, 1000, 0.1, n_class)\n",
    "\n",
    "    #得到最终的预测结果\n",
    "    print(\"--------- 3.get prediction ------------\")\n",
    "    result = get_predict(feature, w0, w1, b0, b1)\n",
    "    print(\"训练准确性为：\", (1 - err_rate(np.argmax(label, axis=1), np.argmax(result, axis=1))))\n"
   ]
  },
  {
   "cell_type": "code",
   "execution_count": 7,
   "metadata": {},
   "outputs": [
    {
     "data": {
      "text/plain": [
       "(400, 2)"
      ]
     },
     "execution_count": 7,
     "metadata": {},
     "output_type": "execute_result"
    }
   ],
   "source": [
    "feature.shape"
   ]
  },
  {
   "cell_type": "code",
   "execution_count": 11,
   "metadata": {},
   "outputs": [
    {
     "data": {
      "text/plain": [
       "(400, 2)"
      ]
     },
     "execution_count": 11,
     "metadata": {},
     "output_type": "execute_result"
    }
   ],
   "source": [
    "label.shape"
   ]
  },
  {
   "cell_type": "markdown",
   "metadata": {},
   "source": [
    "# sklearn中的MLP"
   ]
  },
  {
   "cell_type": "markdown",
   "metadata": {},
   "source": [
    "## 分类"
   ]
  },
  {
   "cell_type": "markdown",
   "metadata": {},
   "source": [
    "### 二分类"
   ]
  },
  {
   "cell_type": "code",
   "execution_count": 2,
   "metadata": {},
   "outputs": [
    {
     "name": "stderr",
     "output_type": "stream",
     "text": [
      "D:\\conda\\lib\\site-packages\\sklearn\\neural_network\\multilayer_perceptron.py:566: ConvergenceWarning: Stochastic Optimizer: Maximum iterations (200) reached and the optimization hasn't converged yet.\n",
      "  % self.max_iter, ConvergenceWarning)\n"
     ]
    },
    {
     "data": {
      "text/plain": [
       "MLPClassifier(activation='relu', alpha=0.0001, batch_size='auto', beta_1=0.9,\n",
       "              beta_2=0.999, early_stopping=False, epsilon=1e-08,\n",
       "              hidden_layer_sizes=(5, 2), learning_rate='constant',\n",
       "              learning_rate_init=0.001, max_iter=200, momentum=0.9,\n",
       "              n_iter_no_change=10, nesterovs_momentum=True, power_t=0.5,\n",
       "              random_state=None, shuffle=True, solver='adam', tol=0.0001,\n",
       "              validation_fraction=0.1, verbose=False, warm_start=False)"
      ]
     },
     "execution_count": 2,
     "metadata": {},
     "output_type": "execute_result"
    }
   ],
   "source": [
    "#分类\n",
    "from sklearn.neural_network import MLPClassifier\n",
    "X = [[0., 0.], [1., 1.],[2, 2]]\n",
    "y = [0, 1, 1]\n",
    "clf = MLPClassifier(hidden_layer_sizes=(5,2))\n",
    "clf.fit(X, y)  "
   ]
  },
  {
   "cell_type": "code",
   "execution_count": 3,
   "metadata": {},
   "outputs": [
    {
     "data": {
      "text/plain": [
       "[array([[-5.00845314e-08, -4.00386066e-01,  7.77377545e-01,\n",
       "          1.03265895e+00, -3.87021383e-01],\n",
       "        [ 1.88464143e-05,  1.28017587e-01,  2.68077363e-01,\n",
       "          8.45007117e-01, -1.00679556e-06]]),\n",
       " array([[ 0.02973706,  0.01292502],\n",
       "        [ 0.21781495,  0.5062895 ],\n",
       "        [ 0.70020559, -0.61381782],\n",
       "        [-0.50014469, -0.20747273],\n",
       "        [ 0.35093713, -0.11673779]]),\n",
       " array([[-1.17958151],\n",
       "        [-1.5258442 ]])]"
      ]
     },
     "execution_count": 3,
     "metadata": {},
     "output_type": "execute_result"
    }
   ],
   "source": [
    "clf.coefs_  # 列表中的第 i 个元素表示与第 i 层对应的权重矩阵"
   ]
  },
  {
   "cell_type": "code",
   "execution_count": 14,
   "metadata": {},
   "outputs": [
    {
     "data": {
      "text/plain": [
       "[array([-0.52106182, -0.77387377, -0.70088339,  0.740943  ,  0.45936381]),\n",
       " array([-0.60936119, -0.24637518]),\n",
       " array([-0.63703736])]"
      ]
     },
     "execution_count": 14,
     "metadata": {},
     "output_type": "execute_result"
    }
   ],
   "source": [
    "clf.intercepts_  # 列表中的第 i 个元素表示对应于层 i + 1 的偏差向量"
   ]
  },
  {
   "cell_type": "code",
   "execution_count": 5,
   "metadata": {},
   "outputs": [
    {
     "data": {
      "text/plain": [
       "array([[0.37440002, 0.62559998]])"
      ]
     },
     "execution_count": 5,
     "metadata": {},
     "output_type": "execute_result"
    }
   ],
   "source": [
    "clf.predict_proba([[2., 2.]])  #输出概率"
   ]
  },
  {
   "cell_type": "code",
   "execution_count": 12,
   "metadata": {},
   "outputs": [
    {
     "data": {
      "text/plain": [
       "array([1, 0])"
      ]
     },
     "execution_count": 12,
     "metadata": {},
     "output_type": "execute_result"
    }
   ],
   "source": [
    "clf.predict([[2., 2.], [-1., -2.]])"
   ]
  },
  {
   "cell_type": "markdown",
   "metadata": {},
   "source": [
    "### 二分类"
   ]
  },
  {
   "cell_type": "code",
   "execution_count": 6,
   "metadata": {},
   "outputs": [
    {
     "name": "stderr",
     "output_type": "stream",
     "text": [
      "D:\\conda\\lib\\site-packages\\sklearn\\neural_network\\multilayer_perceptron.py:566: ConvergenceWarning: Stochastic Optimizer: Maximum iterations (200) reached and the optimization hasn't converged yet.\n",
      "  % self.max_iter, ConvergenceWarning)\n"
     ]
    },
    {
     "data": {
      "text/plain": [
       "MLPClassifier(activation='relu', alpha=0.0001, batch_size='auto', beta_1=0.9,\n",
       "              beta_2=0.999, early_stopping=False, epsilon=1e-08,\n",
       "              hidden_layer_sizes=(5, 2), learning_rate='constant',\n",
       "              learning_rate_init=0.001, max_iter=200, momentum=0.9,\n",
       "              n_iter_no_change=10, nesterovs_momentum=True, power_t=0.5,\n",
       "              random_state=None, shuffle=True, solver='adam', tol=0.0001,\n",
       "              validation_fraction=0.1, verbose=False, warm_start=False)"
      ]
     },
     "execution_count": 6,
     "metadata": {},
     "output_type": "execute_result"
    }
   ],
   "source": [
    "#分类\n",
    "from sklearn.neural_network import MLPClassifier\n",
    "X = [[0., 0.], [1., 1.],[2, 2]]\n",
    "y = [0, 1, 2]\n",
    "clf = MLPClassifier(hidden_layer_sizes=(5,2))\n",
    "clf.fit(X, y)  "
   ]
  },
  {
   "cell_type": "code",
   "execution_count": 7,
   "metadata": {},
   "outputs": [
    {
     "data": {
      "text/plain": [
       "[array([[ 0.8925838 , -0.12720673,  0.2012739 ,  0.61328645,  0.21903055],\n",
       "        [-0.67865291, -0.48977511,  0.44998043,  0.71544611, -0.01196599]]),\n",
       " array([[ 7.49205564e-02, -8.88531561e-01],\n",
       "        [-3.02580939e-01, -5.62319371e-01],\n",
       "        [-2.55164261e-06,  7.29646875e-01],\n",
       "        [-7.28356213e-01,  7.06400815e-01],\n",
       "        [-3.88045481e-01,  4.12808716e-01]]),\n",
       " array([[ 0.67364548,  0.37449451, -0.71522718],\n",
       "        [-0.28433538, -0.98670168, -0.51823934]])]"
      ]
     },
     "execution_count": 7,
     "metadata": {},
     "output_type": "execute_result"
    }
   ],
   "source": [
    "clf.coefs_"
   ]
  },
  {
   "cell_type": "code",
   "execution_count": 8,
   "metadata": {},
   "outputs": [
    {
     "data": {
      "text/plain": [
       "[array([-0.44552297,  0.08403195,  0.41848293, -0.39924535,  0.01717207]),\n",
       " array([0.05217207, 0.5868602 ]),\n",
       " array([-0.77482213, -0.5781877 , -0.56453227])]"
      ]
     },
     "execution_count": 8,
     "metadata": {},
     "output_type": "execute_result"
    }
   ],
   "source": [
    "clf.intercepts_"
   ]
  },
  {
   "cell_type": "code",
   "execution_count": 10,
   "metadata": {},
   "outputs": [
    {
     "data": {
      "text/plain": [
       "array([[0.26625048, 0.4353242 , 0.29842531]])"
      ]
     },
     "execution_count": 10,
     "metadata": {},
     "output_type": "execute_result"
    }
   ],
   "source": [
    "clf.predict_proba([[2., 2.]])  #输出概率"
   ]
  },
  {
   "cell_type": "code",
   "execution_count": 11,
   "metadata": {},
   "outputs": [
    {
     "data": {
      "text/plain": [
       "array([1])"
      ]
     },
     "execution_count": 11,
     "metadata": {},
     "output_type": "execute_result"
    }
   ],
   "source": [
    "clf.predict([[2., 2.]])  #输出概率"
   ]
  },
  {
   "cell_type": "markdown",
   "metadata": {},
   "source": [
    "## 回归"
   ]
  },
  {
   "cell_type": "code",
   "execution_count": 8,
   "metadata": {},
   "outputs": [
    {
     "name": "stderr",
     "output_type": "stream",
     "text": [
      "D:\\conda\\lib\\site-packages\\sklearn\\neural_network\\multilayer_perceptron.py:566: ConvergenceWarning: Stochastic Optimizer: Maximum iterations (200) reached and the optimization hasn't converged yet.\n",
      "  % self.max_iter, ConvergenceWarning)\n"
     ]
    },
    {
     "data": {
      "text/plain": [
       "MLPRegressor(activation='relu', alpha=0.0001, batch_size='auto', beta_1=0.9,\n",
       "             beta_2=0.999, early_stopping=False, epsilon=1e-08,\n",
       "             hidden_layer_sizes=(5, 2), learning_rate='constant',\n",
       "             learning_rate_init=0.001, max_iter=200, momentum=0.9,\n",
       "             n_iter_no_change=10, nesterovs_momentum=True, power_t=0.5,\n",
       "             random_state=None, shuffle=True, solver='adam', tol=0.0001,\n",
       "             validation_fraction=0.1, verbose=False, warm_start=False)"
      ]
     },
     "execution_count": 8,
     "metadata": {},
     "output_type": "execute_result"
    }
   ],
   "source": [
    "#回归\n",
    "from sklearn.neural_network import MLPRegressor\n",
    "X = [[0., 0.], [1., 1.],[2, 2]]\n",
    "y = [0, 1, 2]#输出一个\n",
    "clf = MLPRegressor(hidden_layer_sizes=(5, 2))\n",
    "clf.fit(X, y)"
   ]
  },
  {
   "cell_type": "code",
   "execution_count": 13,
   "metadata": {},
   "outputs": [
    {
     "data": {
      "text/plain": [
       "[array([[ 0.21724315,  0.74511989, -0.77552676, -0.16514847, -0.52992443],\n",
       "        [ 0.56218905, -0.69635582, -0.40744851, -0.07008052, -0.26403128]]),\n",
       " array([[ 0.17671108,  0.20635234],\n",
       "        [ 0.46387954,  0.60549976],\n",
       "        [-0.32881676,  0.72777788],\n",
       "        [ 0.70730329,  0.60201498],\n",
       "        [-0.72634631,  0.18963482]]),\n",
       " array([[-0.50594089],\n",
       "        [-0.78725898]])]"
      ]
     },
     "execution_count": 13,
     "metadata": {},
     "output_type": "execute_result"
    }
   ],
   "source": [
    "clf.coefs_"
   ]
  },
  {
   "cell_type": "markdown",
   "metadata": {},
   "source": [
    "# 葡萄酒分类"
   ]
  },
  {
   "cell_type": "code",
   "execution_count": 10,
   "metadata": {},
   "outputs": [
    {
     "data": {
      "text/plain": [
       "array([[1.000e+00, 1.423e+01, 1.710e+00, ..., 1.040e+00, 3.920e+00,\n",
       "        1.065e+03],\n",
       "       [1.000e+00, 1.320e+01, 1.780e+00, ..., 1.050e+00, 3.400e+00,\n",
       "        1.050e+03],\n",
       "       [1.000e+00, 1.316e+01, 2.360e+00, ..., 1.030e+00, 3.170e+00,\n",
       "        1.185e+03],\n",
       "       ...,\n",
       "       [3.000e+00, 1.327e+01, 4.280e+00, ..., 5.900e-01, 1.560e+00,\n",
       "        8.350e+02],\n",
       "       [3.000e+00, 1.317e+01, 2.590e+00, ..., 6.000e-01, 1.620e+00,\n",
       "        8.400e+02],\n",
       "       [3.000e+00, 1.413e+01, 4.100e+00, ..., 6.100e-01, 1.600e+00,\n",
       "        5.600e+02]])"
      ]
     },
     "execution_count": 10,
     "metadata": {},
     "output_type": "execute_result"
    }
   ],
   "source": [
    "from sklearn.neural_network import MLPClassifier\n",
    "from sklearn.model_selection import train_test_split\n",
    "from sklearn.preprocessing import StandardScaler\n",
    "from sklearn.metrics import classification_report,confusion_matrix\n",
    "import numpy as np\n",
    "data = np.genfromtxt('wine_data.csv', delimiter=',')\n",
    "data"
   ]
  },
  {
   "cell_type": "code",
   "execution_count": 12,
   "metadata": {},
   "outputs": [
    {
     "data": {
      "text/plain": [
       "(178, 14)"
      ]
     },
     "execution_count": 12,
     "metadata": {},
     "output_type": "execute_result"
    }
   ],
   "source": [
    "data.shape"
   ]
  },
  {
   "cell_type": "code",
   "execution_count": 13,
   "metadata": {},
   "outputs": [
    {
     "data": {
      "text/plain": [
       "array([[1.423e+01, 1.710e+00, 2.430e+00, ..., 1.040e+00, 3.920e+00,\n",
       "        1.065e+03],\n",
       "       [1.320e+01, 1.780e+00, 2.140e+00, ..., 1.050e+00, 3.400e+00,\n",
       "        1.050e+03],\n",
       "       [1.316e+01, 2.360e+00, 2.670e+00, ..., 1.030e+00, 3.170e+00,\n",
       "        1.185e+03],\n",
       "       ...,\n",
       "       [1.327e+01, 4.280e+00, 2.260e+00, ..., 5.900e-01, 1.560e+00,\n",
       "        8.350e+02],\n",
       "       [1.317e+01, 2.590e+00, 2.370e+00, ..., 6.000e-01, 1.620e+00,\n",
       "        8.400e+02],\n",
       "       [1.413e+01, 4.100e+00, 2.740e+00, ..., 6.100e-01, 1.600e+00,\n",
       "        5.600e+02]])"
      ]
     },
     "execution_count": 13,
     "metadata": {},
     "output_type": "execute_result"
    }
   ],
   "source": [
    "x_data=data[:,1:]#数据特征\n",
    "x_data"
   ]
  },
  {
   "cell_type": "code",
   "execution_count": 14,
   "metadata": {
    "scrolled": true
   },
   "outputs": [
    {
     "data": {
      "text/plain": [
       "array([1., 1., 1., 1., 1., 1., 1., 1., 1., 1., 1., 1., 1., 1., 1., 1., 1.,\n",
       "       1., 1., 1., 1., 1., 1., 1., 1., 1., 1., 1., 1., 1., 1., 1., 1., 1.,\n",
       "       1., 1., 1., 1., 1., 1., 1., 1., 1., 1., 1., 1., 1., 1., 1., 1., 1.,\n",
       "       1., 1., 1., 1., 1., 1., 1., 1., 2., 2., 2., 2., 2., 2., 2., 2., 2.,\n",
       "       2., 2., 2., 2., 2., 2., 2., 2., 2., 2., 2., 2., 2., 2., 2., 2., 2.,\n",
       "       2., 2., 2., 2., 2., 2., 2., 2., 2., 2., 2., 2., 2., 2., 2., 2., 2.,\n",
       "       2., 2., 2., 2., 2., 2., 2., 2., 2., 2., 2., 2., 2., 2., 2., 2., 2.,\n",
       "       2., 2., 2., 2., 2., 2., 2., 2., 2., 2., 2., 3., 3., 3., 3., 3., 3.,\n",
       "       3., 3., 3., 3., 3., 3., 3., 3., 3., 3., 3., 3., 3., 3., 3., 3., 3.,\n",
       "       3., 3., 3., 3., 3., 3., 3., 3., 3., 3., 3., 3., 3., 3., 3., 3., 3.,\n",
       "       3., 3., 3., 3., 3., 3., 3., 3.])"
      ]
     },
     "execution_count": 14,
     "metadata": {},
     "output_type": "execute_result"
    }
   ],
   "source": [
    "y_data=data[:,0]  #标签\n",
    "y_data"
   ]
  },
  {
   "cell_type": "code",
   "execution_count": 16,
   "metadata": {},
   "outputs": [
    {
     "data": {
      "text/plain": [
       "2.0    71\n",
       "1.0    59\n",
       "3.0    48\n",
       "dtype: int64"
      ]
     },
     "execution_count": 16,
     "metadata": {},
     "output_type": "execute_result"
    }
   ],
   "source": [
    "import pandas as pd\n",
    "pd.Series(y_data).value_counts()"
   ]
  },
  {
   "cell_type": "code",
   "execution_count": 15,
   "metadata": {},
   "outputs": [],
   "source": [
    "train_test_split?"
   ]
  },
  {
   "cell_type": "code",
   "execution_count": 21,
   "metadata": {},
   "outputs": [],
   "source": [
    "x_train, x_test, y_train, y_test = train_test_split(x_data, y_data,stratify=y_data)#分为训练和测试"
   ]
  },
  {
   "cell_type": "code",
   "execution_count": null,
   "metadata": {},
   "outputs": [],
   "source": []
  },
  {
   "cell_type": "code",
   "execution_count": 23,
   "metadata": {},
   "outputs": [
    {
     "data": {
      "text/plain": [
       "2.0    53\n",
       "1.0    44\n",
       "3.0    36\n",
       "dtype: int64"
      ]
     },
     "execution_count": 23,
     "metadata": {},
     "output_type": "execute_result"
    }
   ],
   "source": [
    "import pandas as pd\n",
    "pd.Series(y_train).value_counts()"
   ]
  },
  {
   "cell_type": "code",
   "execution_count": 24,
   "metadata": {},
   "outputs": [],
   "source": [
    "scaler = StandardScaler()\n",
    "x_train = scaler.fit_transform(x_train)#标准化处理\n",
    "x_test = scaler.transform(x_test)"
   ]
  },
  {
   "cell_type": "code",
   "execution_count": 25,
   "metadata": {},
   "outputs": [
    {
     "data": {
      "text/plain": [
       "(133, 13)"
      ]
     },
     "execution_count": 25,
     "metadata": {},
     "output_type": "execute_result"
    }
   ],
   "source": [
    "x_train.shape"
   ]
  },
  {
   "cell_type": "code",
   "execution_count": 27,
   "metadata": {},
   "outputs": [
    {
     "name": "stderr",
     "output_type": "stream",
     "text": [
      "D:\\conda\\lib\\site-packages\\sklearn\\neural_network\\multilayer_perceptron.py:566: ConvergenceWarning: Stochastic Optimizer: Maximum iterations (200) reached and the optimization hasn't converged yet.\n",
      "  % self.max_iter, ConvergenceWarning)\n"
     ]
    },
    {
     "data": {
      "text/plain": [
       "MLPClassifier(activation='relu', alpha=0.0001, batch_size='auto', beta_1=0.9,\n",
       "              beta_2=0.999, early_stopping=False, epsilon=1e-08,\n",
       "              hidden_layer_sizes=20, learning_rate='constant',\n",
       "              learning_rate_init=0.001, max_iter=200, momentum=0.9,\n",
       "              n_iter_no_change=10, nesterovs_momentum=True, power_t=0.5,\n",
       "              random_state=None, shuffle=True, solver='adam', tol=0.0001,\n",
       "              validation_fraction=0.1, verbose=False, warm_start=False)"
      ]
     },
     "execution_count": 27,
     "metadata": {},
     "output_type": "execute_result"
    }
   ],
   "source": [
    "mlp = MLPClassifier(hidden_layer_sizes=(20))\n",
    "mlp.fit(x_train, y_train)"
   ]
  },
  {
   "cell_type": "code",
   "execution_count": 28,
   "metadata": {},
   "outputs": [
    {
     "data": {
      "text/plain": [
       "0.9777777777777777"
      ]
     },
     "execution_count": 28,
     "metadata": {},
     "output_type": "execute_result"
    }
   ],
   "source": [
    "mlp.score(x_test,y_test)"
   ]
  },
  {
   "cell_type": "markdown",
   "metadata": {},
   "source": [
    "## 参数优化"
   ]
  },
  {
   "cell_type": "code",
   "execution_count": 30,
   "metadata": {},
   "outputs": [],
   "source": [
    "from sklearn.model_selection import GridSearchCV"
   ]
  },
  {
   "cell_type": "code",
   "execution_count": 34,
   "metadata": {},
   "outputs": [
    {
     "name": "stdout",
     "output_type": "stream",
     "text": [
      "Fitting 10 folds for each of 9 candidates, totalling 90 fits\n"
     ]
    },
    {
     "name": "stderr",
     "output_type": "stream",
     "text": [
      "[Parallel(n_jobs=-1)]: Using backend LokyBackend with 8 concurrent workers.\n",
      "[Parallel(n_jobs=-1)]: Done  25 tasks      | elapsed:    1.3s\n",
      "[Parallel(n_jobs=-1)]: Done  90 out of  90 | elapsed:    4.5s finished\n",
      "D:\\conda\\lib\\site-packages\\sklearn\\model_selection\\_search.py:814: DeprecationWarning: The default of the `iid` parameter will change from True to False in version 0.22 and will be removed in 0.24. This will change numeric results when test-set sizes are unequal.\n",
      "  DeprecationWarning)\n"
     ]
    },
    {
     "data": {
      "text/plain": [
       "GridSearchCV(cv=10, error_score='raise-deprecating',\n",
       "             estimator=MLPClassifier(activation='relu', alpha=0.0001,\n",
       "                                     batch_size='auto', beta_1=0.9,\n",
       "                                     beta_2=0.999, early_stopping=False,\n",
       "                                     epsilon=1e-08, hidden_layer_sizes=(100,),\n",
       "                                     learning_rate='constant',\n",
       "                                     learning_rate_init=0.001, max_iter=500,\n",
       "                                     momentum=0.9, n_iter_no_change=10,\n",
       "                                     nesterovs_momentum=True, power_t=0.5,\n",
       "                                     random_state=None, shuffle=True,\n",
       "                                     solver='adam', tol=0.0001,\n",
       "                                     validation_fraction=0.1, verbose=False,\n",
       "                                     warm_start=False),\n",
       "             iid='warn', n_jobs=-1,\n",
       "             param_grid={'alpha': [1e-06, 1e-05, 0.0001],\n",
       "                         'hidden_layer_sizes': [(10,), (30,), (100,)]},\n",
       "             pre_dispatch='2*n_jobs', refit=True, return_train_score=False,\n",
       "             scoring=None, verbose=2)"
      ]
     },
     "execution_count": 34,
     "metadata": {},
     "output_type": "execute_result"
    }
   ],
   "source": [
    "mlp = MLPClassifier(max_iter=500)\n",
    "params={'hidden_layer_sizes':[(10,),(30,),(100,)],'alpha':[0.000001,0.00001,0.0001]}\n",
    "grid_search=GridSearchCV(mlp,param_grid=params,cv=10,verbose=2,n_jobs=-1)\n",
    "grid_search.fit(x_train, y_train)"
   ]
  },
  {
   "cell_type": "code",
   "execution_count": 35,
   "metadata": {},
   "outputs": [
    {
     "data": {
      "text/plain": [
       "{'alpha': 1e-06, 'hidden_layer_sizes': (100,)}"
      ]
     },
     "execution_count": 35,
     "metadata": {},
     "output_type": "execute_result"
    }
   ],
   "source": [
    "grid_search.best_params_"
   ]
  },
  {
   "cell_type": "code",
   "execution_count": 36,
   "metadata": {},
   "outputs": [
    {
     "data": {
      "text/plain": [
       "0.9777777777777777"
      ]
     },
     "execution_count": 36,
     "metadata": {},
     "output_type": "execute_result"
    }
   ],
   "source": [
    "grid_search.score(x_test,y_test)"
   ]
  },
  {
   "cell_type": "code",
   "execution_count": null,
   "metadata": {},
   "outputs": [],
   "source": []
  }
 ],
 "metadata": {
  "kernelspec": {
   "display_name": "Python 3",
   "language": "python",
   "name": "python3"
  },
  "language_info": {
   "codemirror_mode": {
    "name": "ipython",
    "version": 3
   },
   "file_extension": ".py",
   "mimetype": "text/x-python",
   "name": "python",
   "nbconvert_exporter": "python",
   "pygments_lexer": "ipython3",
   "version": "3.10.10"
  },
  "toc": {
   "base_numbering": 1,
   "nav_menu": {},
   "number_sections": true,
   "sideBar": true,
   "skip_h1_title": false,
   "title_cell": "Table of Contents",
   "title_sidebar": "Contents",
   "toc_cell": false,
   "toc_position": {
    "height": "calc(100% - 180px)",
    "left": "10px",
    "top": "150px",
    "width": "165px"
   },
   "toc_section_display": true,
   "toc_window_display": true
  },
  "vscode": {
   "interpreter": {
    "hash": "5d08583355f7f1bb752942edc66f67815f9820e2d49999a032733d9bacd00768"
   }
  }
 },
 "nbformat": 4,
 "nbformat_minor": 2
}
